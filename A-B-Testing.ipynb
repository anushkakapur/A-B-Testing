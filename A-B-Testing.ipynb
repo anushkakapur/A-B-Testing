{
 "cells": [
  {
   "cell_type": "code",
   "execution_count": 1,
   "metadata": {
    "ExecuteTime": {
     "end_time": "2020-10-07T22:36:32.796204Z",
     "start_time": "2020-10-07T22:36:30.669819Z"
    }
   },
   "outputs": [],
   "source": [
    "import numpy as np\n",
    "import pandas as pd\n",
    "import matplotlib.pyplot as plt\n",
    "import seaborn as sns\n",
    "from scipy import stats\n"
   ]
  },
  {
   "cell_type": "code",
   "execution_count": 2,
   "metadata": {
    "ExecuteTime": {
     "end_time": "2020-10-07T22:36:34.290971Z",
     "start_time": "2020-10-07T22:36:34.281366Z"
    }
   },
   "outputs": [],
   "source": [
    "df = pd.read_csv('marketing.csv')"
   ]
  },
  {
   "cell_type": "code",
   "execution_count": 4,
   "metadata": {
    "ExecuteTime": {
     "end_time": "2020-10-07T22:39:20.540247Z",
     "start_time": "2020-10-07T22:39:20.533359Z"
    }
   },
   "outputs": [
    {
     "data": {
      "text/plain": [
       "(548, 6)"
      ]
     },
     "execution_count": 4,
     "metadata": {},
     "output_type": "execute_result"
    }
   ],
   "source": [
    "df.shape"
   ]
  },
  {
   "cell_type": "code",
   "execution_count": 5,
   "metadata": {
    "ExecuteTime": {
     "end_time": "2020-10-07T22:39:24.289680Z",
     "start_time": "2020-10-07T22:39:24.273704Z"
    }
   },
   "outputs": [
    {
     "data": {
      "text/html": [
       "<div>\n",
       "<style scoped>\n",
       "    .dataframe tbody tr th:only-of-type {\n",
       "        vertical-align: middle;\n",
       "    }\n",
       "\n",
       "    .dataframe tbody tr th {\n",
       "        vertical-align: top;\n",
       "    }\n",
       "\n",
       "    .dataframe thead th {\n",
       "        text-align: right;\n",
       "    }\n",
       "</style>\n",
       "<table border=\"1\" class=\"dataframe\">\n",
       "  <thead>\n",
       "    <tr style=\"text-align: right;\">\n",
       "      <th></th>\n",
       "      <th>MarketID</th>\n",
       "      <th>MarketSize</th>\n",
       "      <th>AgeOfStore</th>\n",
       "      <th>Promotion</th>\n",
       "      <th>week</th>\n",
       "      <th>SalesInThousands</th>\n",
       "    </tr>\n",
       "  </thead>\n",
       "  <tbody>\n",
       "    <tr>\n",
       "      <th>0</th>\n",
       "      <td>1</td>\n",
       "      <td>Medium</td>\n",
       "      <td>4</td>\n",
       "      <td>3</td>\n",
       "      <td>1</td>\n",
       "      <td>33.73</td>\n",
       "    </tr>\n",
       "    <tr>\n",
       "      <th>1</th>\n",
       "      <td>1</td>\n",
       "      <td>Medium</td>\n",
       "      <td>4</td>\n",
       "      <td>3</td>\n",
       "      <td>2</td>\n",
       "      <td>35.67</td>\n",
       "    </tr>\n",
       "    <tr>\n",
       "      <th>2</th>\n",
       "      <td>1</td>\n",
       "      <td>Medium</td>\n",
       "      <td>4</td>\n",
       "      <td>3</td>\n",
       "      <td>3</td>\n",
       "      <td>29.03</td>\n",
       "    </tr>\n",
       "    <tr>\n",
       "      <th>3</th>\n",
       "      <td>1</td>\n",
       "      <td>Medium</td>\n",
       "      <td>4</td>\n",
       "      <td>3</td>\n",
       "      <td>4</td>\n",
       "      <td>39.25</td>\n",
       "    </tr>\n",
       "    <tr>\n",
       "      <th>4</th>\n",
       "      <td>1</td>\n",
       "      <td>Medium</td>\n",
       "      <td>5</td>\n",
       "      <td>2</td>\n",
       "      <td>1</td>\n",
       "      <td>27.81</td>\n",
       "    </tr>\n",
       "  </tbody>\n",
       "</table>\n",
       "</div>"
      ],
      "text/plain": [
       "   MarketID MarketSize  AgeOfStore  Promotion  week  SalesInThousands\n",
       "0         1     Medium           4          3     1             33.73\n",
       "1         1     Medium           4          3     2             35.67\n",
       "2         1     Medium           4          3     3             29.03\n",
       "3         1     Medium           4          3     4             39.25\n",
       "4         1     Medium           5          2     1             27.81"
      ]
     },
     "execution_count": 5,
     "metadata": {},
     "output_type": "execute_result"
    }
   ],
   "source": [
    "df.head()"
   ]
  },
  {
   "cell_type": "code",
   "execution_count": 6,
   "metadata": {
    "ExecuteTime": {
     "end_time": "2020-10-07T22:42:00.452048Z",
     "start_time": "2020-10-07T22:42:00.284234Z"
    }
   },
   "outputs": [
    {
     "data": {
      "text/plain": [
       "<matplotlib.axes._subplots.AxesSubplot at 0x7fae805638e0>"
      ]
     },
     "execution_count": 6,
     "metadata": {},
     "output_type": "execute_result"
    },
    {
     "data": {
      "image/png": "[encoded data removed]",
      "text/plain": [
       "<Figure size 432x288 with 1 Axes>"
      ]
     },
     "metadata": {
      "needs_background": "light"
     },
     "output_type": "display_data"
    }
   ],
   "source": [
    "sns.barplot(data = df, x = 'Promotion', y = 'SalesInThousands')"
   ]
  },
  {
   "cell_type": "code",
   "execution_count": 7,
   "metadata": {
    "ExecuteTime": {
     "end_time": "2020-10-07T22:43:42.069694Z",
     "start_time": "2020-10-07T22:43:41.906684Z"
    }
   },
   "outputs": [
    {
     "data": {
      "text/plain": [
       "<matplotlib.axes._subplots.AxesSubplot at 0x7fae8062da00>"
      ]
     },
     "execution_count": 7,
     "metadata": {},
     "output_type": "execute_result"
    },
    {
     "data": {
      "image/png": "[encoded data removed]",
      "text/plain": [
       "<Figure size 432x288 with 1 Axes>"
      ]
     },
     "metadata": {
      "needs_background": "light"
     },
     "output_type": "display_data"
    }
   ],
   "source": [
    "# promotion vs. Age of store\n",
    "\n",
    "sns.barplot(data = df, x='Promotion', y='AgeOfStore')"
   ]
  },
  {
   "cell_type": "code",
   "execution_count": 12,
   "metadata": {
    "ExecuteTime": {
     "end_time": "2020-10-07T22:45:20.636487Z",
     "start_time": "2020-10-07T22:45:20.485544Z"
    }
   },
   "outputs": [
    {
     "data": {
      "text/plain": [
       "<matplotlib.axes._subplots.AxesSubplot at 0x7fae809a77f0>"
      ]
     },
     "execution_count": 12,
     "metadata": {},
     "output_type": "execute_result"
    },
    {
     "data": {
      "image/png": "[encoded data removed]",
      "text/plain": [
       "<Figure size 432x288 with 1 Axes>"
      ]
     },
     "metadata": {
      "needs_background": "light"
     },
     "output_type": "display_data"
    }
   ],
   "source": [
    "# promotion vs. market size\n",
    "\n",
    "sns.countplot(data = df, x='Promotion', hue='MarketSize')"
   ]
  },
  {
   "cell_type": "code",
   "execution_count": 14,
   "metadata": {
    "ExecuteTime": {
     "end_time": "2020-10-07T22:46:30.375478Z",
     "start_time": "2020-10-07T22:46:30.239328Z"
    },
    "scrolled": true
   },
   "outputs": [
    {
     "data": {
      "text/plain": [
       "<matplotlib.axes._subplots.AxesSubplot at 0x7fae80a75be0>"
      ]
     },
     "execution_count": 14,
     "metadata": {},
     "output_type": "execute_result"
    },
    {
     "data": {
      "image/png": "[encoded data removed]",
      "text/plain": [
       "<Figure size 432x288 with 1 Axes>"
      ]
     },
     "metadata": {
      "needs_background": "light"
     },
     "output_type": "display_data"
    }
   ],
   "source": [
    "# promotion vs. week\n",
    "\n",
    "sns.countplot(data = df, x='Promotion', hue='week')"
   ]
  },
  {
   "cell_type": "markdown",
   "metadata": {},
   "source": [
    "# Hypothesis Testing"
   ]
  },
  {
   "cell_type": "markdown",
   "metadata": {},
   "source": [
    "### (1) Manual hypothesis testing"
   ]
  },
  {
   "cell_type": "markdown",
   "metadata": {},
   "source": [
    "Steps:\n",
    "\n",
    "1. State your hypothesis.\n",
    "2. Find the mean of revenue (target variable) among the three promotional groups\n",
    "3. Find the variance of revenue (target variable) among the three promotional groups\n",
    "4. Find the sample size for each of the promotional groups\n",
    "5. Compute t-values and p-values for each A/B test (promotion 1 vs. 2, promotion 1 vs. 3, and promotion 2 vs. 3)\n",
    "6. Make a decision "
   ]
  },
  {
   "cell_type": "markdown",
   "metadata": {},
   "source": [
    "**Step 1**: State your hypothesis "
   ]
  },
  {
   "cell_type": "markdown",
   "metadata": {},
   "source": [
    "Promotions 1 vs. 2\n",
    "\n",
    "- $H_0$: promotion 1 and 2 have similar revenues \n",
    "- $H_1$: promotion 1 leads to higher revenues than promotion 2 ( I knew the direction by checking the means, see jupyter notebook cell below)\n",
    "\n",
    "Promotions 1 vs. 3\n",
    "\n",
    "- $H_0$: promotion 1 and 3 have similar revenues \n",
    "- $H_1$: promotion 1 leads to higher revenues than promotion 3\n",
    "\n",
    "Promotions 2 vs. 3\n",
    "\n",
    "- $H_0$: promotion 2 and 3 have similar revenues \n",
    "- $H_1$: promotion 3 leads to higher revenues than promotion 2"
   ]
  },
  {
   "cell_type": "markdown",
   "metadata": {},
   "source": [
    "**Step 2**: Find the mean of revenue (target variable) among the three promotional groups"
   ]
  },
  {
   "cell_type": "code",
   "execution_count": 15,
   "metadata": {
    "ExecuteTime": {
     "end_time": "2020-10-07T22:48:46.598662Z",
     "start_time": "2020-10-07T22:48:46.586842Z"
    }
   },
   "outputs": [
    {
     "data": {
      "text/plain": [
       "Promotion\n",
       "1    58.099012\n",
       "2    47.329415\n",
       "3    55.364468\n",
       "Name: SalesInThousands, dtype: float64"
      ]
     },
     "execution_count": 15,
     "metadata": {},
     "output_type": "execute_result"
    }
   ],
   "source": [
    "# find means\n",
    "\n",
    "means = df.groupby('Promotion').mean()['SalesInThousands']\n",
    "means"
   ]
  },
  {
   "cell_type": "markdown",
   "metadata": {},
   "source": [
    "**Step 3:** Find the variance of revenue (target variable) among the three promotional groups"
   ]
  },
  {
   "cell_type": "code",
   "execution_count": 18,
   "metadata": {
    "ExecuteTime": {
     "end_time": "2020-10-07T22:50:07.069823Z",
     "start_time": "2020-10-07T22:50:07.061678Z"
    }
   },
   "outputs": [
    {
     "data": {
      "text/plain": [
       "Promotion\n",
       "1    274.027688\n",
       "2    228.280515\n",
       "3    281.106494\n",
       "Name: SalesInThousands, dtype: float64"
      ]
     },
     "execution_count": 18,
     "metadata": {},
     "output_type": "execute_result"
    }
   ],
   "source": [
    "# find variances\n",
    "\n",
    "variances = df.groupby('Promotion').var()['SalesInThousands']\n",
    "variances"
   ]
  },
  {
   "cell_type": "markdown",
   "metadata": {},
   "source": [
    "**Step 4:** Find the sample size for each of the promotional groups"
   ]
  },
  {
   "cell_type": "code",
   "execution_count": 20,
   "metadata": {
    "ExecuteTime": {
     "end_time": "2020-10-07T22:50:32.091647Z",
     "start_time": "2020-10-07T22:50:32.081700Z"
    },
    "scrolled": false
   },
   "outputs": [
    {
     "data": {
      "text/plain": [
       "Promotion\n",
       "1    172\n",
       "2    188\n",
       "3    188\n",
       "Name: SalesInThousands, dtype: int64"
      ]
     },
     "execution_count": 20,
     "metadata": {},
     "output_type": "execute_result"
    }
   ],
   "source": [
    "# find sample sizes\n",
    "\n",
    "sample_sizes = df.groupby('Promotion').count()['SalesInThousands']\n",
    "sample_sizes"
   ]
  },
  {
   "cell_type": "markdown",
   "metadata": {},
   "source": [
    "**Step 5:** Compute t-values and p-values for each A/B test "
   ]
  },
  {
   "cell_type": "code",
   "execution_count": 30,
   "metadata": {
    "ExecuteTime": {
     "end_time": "2020-10-07T22:55:53.768033Z",
     "start_time": "2020-10-07T22:55:53.758542Z"
    }
   },
   "outputs": [
    {
     "data": {
      "text/plain": [
       "4.2903687179871785e-10"
      ]
     },
     "execution_count": 30,
     "metadata": {},
     "output_type": "execute_result"
    }
   ],
   "source": [
    "## Promotion 1 vs. 2\n",
    "\n",
    "t,p = stats.ttest_ind(\n",
    "                    df.loc[df['Promotion'] == 1, 'SalesInThousands'].values,\n",
    "                    df.loc[df['Promotion'] == 2, 'SalesInThousands'].values,\n",
    "                    equal_var = False)\n",
    "\n",
    "p #less than .05, reject null"
   ]
  },
  {
   "cell_type": "code",
   "execution_count": 31,
   "metadata": {
    "ExecuteTime": {
     "end_time": "2020-10-07T22:56:20.525990Z",
     "start_time": "2020-10-07T22:56:20.520039Z"
    }
   },
   "outputs": [
    {
     "data": {
      "text/plain": [
       "0.12059147742229478"
      ]
     },
     "execution_count": 31,
     "metadata": {},
     "output_type": "execute_result"
    }
   ],
   "source": [
    "## Promotion 1 vs. 3\n",
    "t,p = stats.ttest_ind(\n",
    "                    df.loc[df['Promotion'] == 1, 'SalesInThousands'].values,\n",
    "                    df.loc[df['Promotion'] == 3, 'SalesInThousands'].values,\n",
    "                    equal_var = False)\n",
    "\n",
    "p #not enough evidence to reject null \n"
   ]
  },
  {
   "cell_type": "code",
   "execution_count": 32,
   "metadata": {
    "ExecuteTime": {
     "end_time": "2020-10-07T22:56:59.801256Z",
     "start_time": "2020-10-07T22:56:59.795072Z"
    }
   },
   "outputs": [
    {
     "data": {
      "text/plain": [
       "1.5692733176039892e-06"
      ]
     },
     "execution_count": 32,
     "metadata": {},
     "output_type": "execute_result"
    }
   ],
   "source": [
    "## Promotion 2 vs. 3\n",
    "t,p = stats.ttest_ind(\n",
    "                    df.loc[df['Promotion'] == 2, 'SalesInThousands'].values,\n",
    "                    df.loc[df['Promotion'] == 3, 'SalesInThousands'].values,\n",
    "                    equal_var = False)\n",
    "p #p<.05 reject null again"
   ]
  },
  {
   "cell_type": "markdown",
   "metadata": {},
   "source": [
    "**Step 6:** Make a decision"
   ]
  },
  {
   "cell_type": "markdown",
   "metadata": {},
   "source": [
    "Promotion 1 vs. 2: \n",
    "\n",
    "We have demonstrated that the marketing performances for these two groups are different and that promotion group  1 outperforms promotion group 2.\n",
    "\n",
    "Promotion 1 vs. 3:\n",
    "\n",
    "Promotion groups 1 and 3  outperform promotion group 2, and the difference between them is not statistically significant."
   ]
  }
 ],
 "metadata": {
  "kernelspec": {
   "display_name": "Python 3",
   "language": "python",
   "name": "python3"
  },
  "language_info": {
   "codemirror_mode": {
    "name": "ipython",
    "version": 3
   },
   "file_extension": ".py",
   "mimetype": "text/x-python",
   "name": "python",
   "nbconvert_exporter": "python",
   "pygments_lexer": "ipython3",
   "version": "3.8.3"
  },
  "varInspector": {
   "cols": {
    "lenName": 16,
    "lenType": 16,
    "lenVar": 40
   },
   "kernels_config": {
    "python": {
     "delete_cmd_postfix": "",
     "delete_cmd_prefix": "del ",
     "library": "var_list.py",
     "varRefreshCmd": "print(var_dic_list())"
    },
    "r": {
     "delete_cmd_postfix": ") ",
     "delete_cmd_prefix": "rm(",
     "library": "var_list.r",
     "varRefreshCmd": "cat(var_dic_list()) "
    }
   },
   "types_to_exclude": [
    "module",
    "function",
    "builtin_function_or_method",
    "instance",
    "_Feature"
   ],
   "window_display": false
  }
 },
 "nbformat": 4,
 "nbformat_minor": 4
}
